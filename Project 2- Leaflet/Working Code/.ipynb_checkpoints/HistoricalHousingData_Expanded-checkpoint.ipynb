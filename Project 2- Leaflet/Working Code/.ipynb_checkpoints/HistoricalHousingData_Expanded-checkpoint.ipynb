{
 "cells": [
  {
   "cell_type": "code",
   "execution_count": 40,
   "metadata": {},
   "outputs": [],
   "source": [
    "import matplotlib.pyplot as plt\n",
    "from sklearn.neighbors import KNeighborsClassifier\n",
    "import pandas as pd\n",
    "import numpy as np\n",
    "import os"
   ]
  },
  {
   "cell_type": "code",
   "execution_count": 41,
   "metadata": {},
   "outputs": [
    {
     "data": {
      "text/html": [
       "<div>\n",
       "<style scoped>\n",
       "    .dataframe tbody tr th:only-of-type {\n",
       "        vertical-align: middle;\n",
       "    }\n",
       "\n",
       "    .dataframe tbody tr th {\n",
       "        vertical-align: top;\n",
       "    }\n",
       "\n",
       "    .dataframe thead th {\n",
       "        text-align: right;\n",
       "    }\n",
       "</style>\n",
       "<table border=\"1\" class=\"dataframe\">\n",
       "  <thead>\n",
       "    <tr style=\"text-align: right;\">\n",
       "      <th></th>\n",
       "      <th>Region</th>\n",
       "      <th>Period End</th>\n",
       "      <th>PeriodEnd</th>\n",
       "      <th>Is New Construction Transaction</th>\n",
       "      <th>Homes Sold</th>\n",
       "      <th>TotalHomesSold</th>\n",
       "      <th>Homes Sold YoY</th>\n",
       "      <th>% of Total Homes Sold (copy) along Is New Construction Transaction</th>\n",
       "      <th>Inventory</th>\n",
       "      <th>Inventory YoY</th>\n",
       "      <th>...</th>\n",
       "      <th>Median Sale Price</th>\n",
       "      <th>Median Sale Price YoY</th>\n",
       "      <th>Median Ppsf</th>\n",
       "      <th>Median Ppsf YoY</th>\n",
       "      <th>Median List Price</th>\n",
       "      <th>Median List Ppsf</th>\n",
       "      <th>Avg Sale To List</th>\n",
       "      <th>Sold Above List</th>\n",
       "      <th>Months Of Supply</th>\n",
       "      <th>Median Dom</th>\n",
       "    </tr>\n",
       "  </thead>\n",
       "  <tbody>\n",
       "    <tr>\n",
       "      <td>0</td>\n",
       "      <td>Richmond, VA metro area</td>\n",
       "      <td>2019.9</td>\n",
       "      <td>2019-09-30</td>\n",
       "      <td>Existing</td>\n",
       "      <td>4825</td>\n",
       "      <td>5357</td>\n",
       "      <td>5.10%</td>\n",
       "      <td>90.07%</td>\n",
       "      <td>2898</td>\n",
       "      <td>-6.30%</td>\n",
       "      <td>...</td>\n",
       "      <td>$255,000</td>\n",
       "      <td>6.30%</td>\n",
       "      <td>$136</td>\n",
       "      <td>4.00%</td>\n",
       "      <td>$249,950</td>\n",
       "      <td>$137</td>\n",
       "      <td>99.00%</td>\n",
       "      <td>30.90%</td>\n",
       "      <td>1</td>\n",
       "      <td>16</td>\n",
       "    </tr>\n",
       "    <tr>\n",
       "      <td>1</td>\n",
       "      <td>Richmond, VA metro area</td>\n",
       "      <td>2019.8</td>\n",
       "      <td>2019-08-31</td>\n",
       "      <td>Existing</td>\n",
       "      <td>5328</td>\n",
       "      <td>5882</td>\n",
       "      <td>0.40%</td>\n",
       "      <td>90.58%</td>\n",
       "      <td>2856</td>\n",
       "      <td>-7.10%</td>\n",
       "      <td>...</td>\n",
       "      <td>$260,000</td>\n",
       "      <td>4.90%</td>\n",
       "      <td>$138</td>\n",
       "      <td>4.20%</td>\n",
       "      <td>$249,950</td>\n",
       "      <td>$136</td>\n",
       "      <td>99.30%</td>\n",
       "      <td>33.50%</td>\n",
       "      <td>1</td>\n",
       "      <td>13</td>\n",
       "    </tr>\n",
       "    <tr>\n",
       "      <td>2</td>\n",
       "      <td>Richmond, VA metro area</td>\n",
       "      <td>2019.7</td>\n",
       "      <td>2019-07-31</td>\n",
       "      <td>Existing</td>\n",
       "      <td>5394</td>\n",
       "      <td>5922</td>\n",
       "      <td>3.00%</td>\n",
       "      <td>91.08%</td>\n",
       "      <td>2898</td>\n",
       "      <td>-1.80%</td>\n",
       "      <td>...</td>\n",
       "      <td>$257,500</td>\n",
       "      <td>5.10%</td>\n",
       "      <td>$138</td>\n",
       "      <td>4.10%</td>\n",
       "      <td>$259,000</td>\n",
       "      <td>$137</td>\n",
       "      <td>99.40%</td>\n",
       "      <td>34.90%</td>\n",
       "      <td>1</td>\n",
       "      <td>12</td>\n",
       "    </tr>\n",
       "    <tr>\n",
       "      <td>3</td>\n",
       "      <td>Richmond, VA metro area</td>\n",
       "      <td>2019.6</td>\n",
       "      <td>2019-06-30</td>\n",
       "      <td>Existing</td>\n",
       "      <td>4923</td>\n",
       "      <td>5446</td>\n",
       "      <td>0.00%</td>\n",
       "      <td>90.40%</td>\n",
       "      <td>2822</td>\n",
       "      <td>-1.60%</td>\n",
       "      <td>...</td>\n",
       "      <td>$255,000</td>\n",
       "      <td>5.40%</td>\n",
       "      <td>$136</td>\n",
       "      <td>4.10%</td>\n",
       "      <td>$261,950</td>\n",
       "      <td>$137</td>\n",
       "      <td>99.40%</td>\n",
       "      <td>34.80%</td>\n",
       "      <td>1</td>\n",
       "      <td>12</td>\n",
       "    </tr>\n",
       "    <tr>\n",
       "      <td>4</td>\n",
       "      <td>Richmond, VA metro area</td>\n",
       "      <td>2019.5</td>\n",
       "      <td>2019-05-31</td>\n",
       "      <td>Existing</td>\n",
       "      <td>4383</td>\n",
       "      <td>4900</td>\n",
       "      <td>-0.30%</td>\n",
       "      <td>89.45%</td>\n",
       "      <td>2794</td>\n",
       "      <td>1.60%</td>\n",
       "      <td>...</td>\n",
       "      <td>$249,950</td>\n",
       "      <td>6.40%</td>\n",
       "      <td>$135</td>\n",
       "      <td>4.40%</td>\n",
       "      <td>$265,000</td>\n",
       "      <td>$137</td>\n",
       "      <td>99.20%</td>\n",
       "      <td>32.50%</td>\n",
       "      <td>1</td>\n",
       "      <td>15</td>\n",
       "    </tr>\n",
       "  </tbody>\n",
       "</table>\n",
       "<p>5 rows × 21 columns</p>\n",
       "</div>"
      ],
      "text/plain": [
       "                    Region  Period End   PeriodEnd  \\\n",
       "0  Richmond, VA metro area      2019.9  2019-09-30   \n",
       "1  Richmond, VA metro area      2019.8  2019-08-31   \n",
       "2  Richmond, VA metro area      2019.7  2019-07-31   \n",
       "3  Richmond, VA metro area      2019.6  2019-06-30   \n",
       "4  Richmond, VA metro area      2019.5  2019-05-31   \n",
       "\n",
       "  Is New Construction Transaction  Homes Sold  TotalHomesSold Homes Sold YoY  \\\n",
       "0                        Existing        4825            5357          5.10%   \n",
       "1                        Existing        5328            5882          0.40%   \n",
       "2                        Existing        5394            5922          3.00%   \n",
       "3                        Existing        4923            5446          0.00%   \n",
       "4                        Existing        4383            4900         -0.30%   \n",
       "\n",
       "  % of Total Homes Sold (copy) along Is New Construction Transaction  \\\n",
       "0                                             90.07%                   \n",
       "1                                             90.58%                   \n",
       "2                                             91.08%                   \n",
       "3                                             90.40%                   \n",
       "4                                             89.45%                   \n",
       "\n",
       "   Inventory Inventory YoY  ... Median Sale Price Median Sale Price YoY  \\\n",
       "0       2898        -6.30%  ...         $255,000                  6.30%   \n",
       "1       2856        -7.10%  ...         $260,000                  4.90%   \n",
       "2       2898        -1.80%  ...         $257,500                  5.10%   \n",
       "3       2822        -1.60%  ...         $255,000                  5.40%   \n",
       "4       2794         1.60%  ...         $249,950                  6.40%   \n",
       "\n",
       "  Median Ppsf Median Ppsf YoY Median List Price Median List Ppsf  \\\n",
       "0       $136            4.00%         $249,950             $137    \n",
       "1       $138            4.20%         $249,950             $136    \n",
       "2       $138            4.10%         $259,000             $137    \n",
       "3       $136            4.10%         $261,950             $137    \n",
       "4       $135            4.40%         $265,000             $137    \n",
       "\n",
       "  Avg Sale To List Sold Above List Months Of Supply  Median Dom  \n",
       "0           99.00%          30.90%                1          16  \n",
       "1           99.30%          33.50%                1          13  \n",
       "2           99.40%          34.90%                1          12  \n",
       "3           99.40%          34.80%                1          12  \n",
       "4           99.20%          32.50%                1          15  \n",
       "\n",
       "[5 rows x 21 columns]"
      ]
     },
     "execution_count": 41,
     "metadata": {},
     "output_type": "execute_result"
    }
   ],
   "source": [
    "df = pd.read_csv(os.path.join(\"Data\", \"RVA_Historical_Housing_Data.csv\"))\n",
    "df.head()"
   ]
  },
  {
   "cell_type": "code",
   "execution_count": 45,
   "metadata": {},
   "outputs": [
    {
     "name": "stdout",
     "output_type": "stream",
     "text": [
      "Shape:  (102, 1) (102, 1)\n"
     ]
    }
   ],
   "source": [
    "# Assign the data to X and y\n",
    "# Note: Sklearn requires a two-dimensional array of values\n",
    "# so we use reshape to create this\n",
    "\n",
    "X = df[\"Period End\"].values.reshape(-1, 1)\n",
    "y = df[\"TotalHomesSold\"].values.reshape(-1, 1)\n",
    "\n",
    "print(\"Shape: \", X.shape, y.shape)"
   ]
  },
  {
   "cell_type": "code",
   "execution_count": 46,
   "metadata": {},
   "outputs": [
    {
     "data": {
      "text/plain": [
       "Text(0, 0.5, 'Homes Sold')"
      ]
     },
     "execution_count": 46,
     "metadata": {},
     "output_type": "execute_result"
    },
    {
     "data": {
      "image/png": "[encoded data removed]",
      "text/plain": [
       "<Figure size 432x288 with 1 Axes>"
      ]
     },
     "metadata": {
      "needs_background": "light"
     },
     "output_type": "display_data"
    }
   ],
   "source": [
    "# Plot the data to see if a linear trend exists\n",
    "\n",
    "### BEGIN SOLUTION\n",
    "plt.scatter(X, y)\n",
    "plt.xlabel(\"Period End\")\n",
    "plt.ylabel(\"Homes Sold\")\n",
    "### END SOLUTION"
   ]
  },
  {
   "cell_type": "code",
   "execution_count": 47,
   "metadata": {},
   "outputs": [],
   "source": [
    "# Use sklearn's `train_test_split` to split the data into training and testing\n",
    "\n",
    "from sklearn.model_selection import train_test_split\n",
    "\n",
    "### BEGIN SOLUTION\n",
    "\n",
    "X_train, X_test, y_train, y_test = train_test_split(X, y, random_state=42)\n",
    "\n",
    "### END SOLUTION"
   ]
  },
  {
   "cell_type": "code",
   "execution_count": 48,
   "metadata": {},
   "outputs": [],
   "source": [
    "# Create the model\n",
    "\n",
    "### BEGIN SOLUTION\n",
    "\n",
    "from sklearn.linear_model import LinearRegression\n",
    "\n",
    "model = LinearRegression()\n",
    "\n",
    "### END SOLUTION"
   ]
  },
  {
   "cell_type": "code",
   "execution_count": 49,
   "metadata": {},
   "outputs": [
    {
     "data": {
      "text/plain": [
       "LinearRegression(copy_X=True, fit_intercept=True, n_jobs=None, normalize=False)"
      ]
     },
     "execution_count": 49,
     "metadata": {},
     "output_type": "execute_result"
    }
   ],
   "source": [
    "# Fit the model to the training data. \n",
    "\n",
    "### BEGIN SOLUTION\n",
    "\n",
    "model.fit(X_train, y_train)\n",
    "\n",
    "### END SOLUTION"
   ]
  },
  {
   "cell_type": "code",
   "execution_count": 50,
   "metadata": {},
   "outputs": [
    {
     "name": "stdout",
     "output_type": "stream",
     "text": [
      "Mean Squared Error (MSE): 458709.98850730737\n",
      "R-squared (R2 ): 0.3570643176877303\n"
     ]
    }
   ],
   "source": [
    "# Calculate the mean_squared_error and the r-squared value\n",
    "# for the testing data\n",
    "\n",
    "from sklearn.metrics import mean_squared_error, r2_score\n",
    "\n",
    "### BEGIN SOLUTION\n",
    "\n",
    "# Use our model to make predictions\n",
    "predicted = model.predict(X_test)\n",
    "\n",
    "# Score the predictions with mse and r2\n",
    "mse = mean_squared_error(y_test, predicted)\n",
    "r2 = r2_score(y_test, predicted)\n",
    "\n",
    "print(f\"Mean Squared Error (MSE): {mse}\")\n",
    "print(f\"R-squared (R2 ): {r2}\")\n",
    "\n",
    "### END SOLUTION"
   ]
  },
  {
   "cell_type": "code",
   "execution_count": 51,
   "metadata": {},
   "outputs": [
    {
     "data": {
      "text/plain": [
       "0.3570643176877303"
      ]
     },
     "execution_count": 51,
     "metadata": {},
     "output_type": "execute_result"
    }
   ],
   "source": [
    "# Call the `score` method on the model to show the r2 score\n",
    "\n",
    "### BEGIN SOLUTION\n",
    "model.score(X_test, y_test)\n",
    "### END SOLUTION"
   ]
  },
  {
   "cell_type": "code",
   "execution_count": null,
   "metadata": {},
   "outputs": [],
   "source": []
  }
 ],
 "metadata": {
  "kernelspec": {
   "display_name": "Python 3",
   "language": "python",
   "name": "python3"
  },
  "language_info": {
   "codemirror_mode": {
    "name": "ipython",
    "version": 3
   },
   "file_extension": ".py",
   "mimetype": "text/x-python",
   "name": "python",
   "nbconvert_exporter": "python",
   "pygments_lexer": "ipython3",
   "version": "3.7.5"
  }
 },
 "nbformat": 4,
 "nbformat_minor": 2
}
